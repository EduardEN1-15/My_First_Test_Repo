{
  "nbformat": 4,
  "nbformat_minor": 0,
  "metadata": {
    "colab": {
      "name": "Лабораторная работа 1.ipynb",
      "provenance": [],
      "collapsed_sections": [],
      "authorship_tag": "ABX9TyNAdJSgaxdZF1NGKRN2LQZK"
    },
    "kernelspec": {
      "name": "python3",
      "display_name": "Python 3"
    },
    "language_info": {
      "name": "python"
    }
  },
  "cells": [
    {
      "cell_type": "markdown",
      "source": [
        "**Пример использования Markdown**\n",
        "\n",
        "\n",
        "нужно сделать:\n",
        "1.   список \n",
        "2.   рисунок \n",
        "1.   таблицу \n",
        "2.   ссылку \n",
        "\n",
        "\n",
        "\n",
        "\n",
        "![An image](https://hsto.org/getpro/moikrug/uploads/university/000/001/695/logo/medium_a68ad9662fbc4b06311a7297c5321cdf.png)\n",
        "\n",
        "[Ссылка на руководство по Markdown](https://colab.research.google.com/notebooks/markdown_guide.ipynb#scrollTo=Lhfnlq1Surtk)\n",
        "\n",
        "A               | B             |C\n",
        "----------------|---------------|------------\n",
        "11              | 22            |33\n",
        "1000            | 250           |-50"
      ],
      "metadata": {
        "id": "lx073DfmaEN2"
      }
    }
  ]
}